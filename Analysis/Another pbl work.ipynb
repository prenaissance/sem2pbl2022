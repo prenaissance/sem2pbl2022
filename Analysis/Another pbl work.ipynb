{
 "cells": [
  {
   "cell_type": "code",
   "execution_count": 1,
   "id": "88909995",
   "metadata": {},
   "outputs": [],
   "source": [
    "# Import libraries\n",
    "import pandas as pd\n",
    "import numpy as np\n",
    "import matplotlib.pyplot as plt\n",
    "import seaborn as sns\n",
    "# Importing dataset\n",
    "dataset = pd.read_csv('adult.csv')"
   ]
  },
  {
   "cell_type": "code",
   "execution_count": 2,
   "id": "5b330bb3",
   "metadata": {},
   "outputs": [
    {
     "data": {
      "text/html": [
       "<div>\n",
       "<style scoped>\n",
       "    .dataframe tbody tr th:only-of-type {\n",
       "        vertical-align: middle;\n",
       "    }\n",
       "\n",
       "    .dataframe tbody tr th {\n",
       "        vertical-align: top;\n",
       "    }\n",
       "\n",
       "    .dataframe thead th {\n",
       "        text-align: right;\n",
       "    }\n",
       "</style>\n",
       "<table border=\"1\" class=\"dataframe\">\n",
       "  <thead>\n",
       "    <tr style=\"text-align: right;\">\n",
       "      <th></th>\n",
       "      <th>age</th>\n",
       "      <th>workclass</th>\n",
       "      <th>fnlwgt</th>\n",
       "      <th>education</th>\n",
       "      <th>education.num</th>\n",
       "      <th>marital.status</th>\n",
       "      <th>occupation</th>\n",
       "      <th>relationship</th>\n",
       "      <th>race</th>\n",
       "      <th>sex</th>\n",
       "      <th>capital.gain</th>\n",
       "      <th>capital.loss</th>\n",
       "      <th>hours.per.week</th>\n",
       "      <th>native.country</th>\n",
       "      <th>income</th>\n",
       "    </tr>\n",
       "  </thead>\n",
       "  <tbody>\n",
       "    <tr>\n",
       "      <th>0</th>\n",
       "      <td>90</td>\n",
       "      <td>?</td>\n",
       "      <td>77053</td>\n",
       "      <td>HS-grad</td>\n",
       "      <td>9</td>\n",
       "      <td>Widowed</td>\n",
       "      <td>?</td>\n",
       "      <td>Not-in-family</td>\n",
       "      <td>White</td>\n",
       "      <td>Female</td>\n",
       "      <td>0</td>\n",
       "      <td>4356</td>\n",
       "      <td>40</td>\n",
       "      <td>United-States</td>\n",
       "      <td>&lt;=50K</td>\n",
       "    </tr>\n",
       "    <tr>\n",
       "      <th>1</th>\n",
       "      <td>82</td>\n",
       "      <td>Private</td>\n",
       "      <td>132870</td>\n",
       "      <td>HS-grad</td>\n",
       "      <td>9</td>\n",
       "      <td>Widowed</td>\n",
       "      <td>Exec-managerial</td>\n",
       "      <td>Not-in-family</td>\n",
       "      <td>White</td>\n",
       "      <td>Female</td>\n",
       "      <td>0</td>\n",
       "      <td>4356</td>\n",
       "      <td>18</td>\n",
       "      <td>United-States</td>\n",
       "      <td>&lt;=50K</td>\n",
       "    </tr>\n",
       "    <tr>\n",
       "      <th>2</th>\n",
       "      <td>66</td>\n",
       "      <td>?</td>\n",
       "      <td>186061</td>\n",
       "      <td>Some-college</td>\n",
       "      <td>10</td>\n",
       "      <td>Widowed</td>\n",
       "      <td>?</td>\n",
       "      <td>Unmarried</td>\n",
       "      <td>Black</td>\n",
       "      <td>Female</td>\n",
       "      <td>0</td>\n",
       "      <td>4356</td>\n",
       "      <td>40</td>\n",
       "      <td>United-States</td>\n",
       "      <td>&lt;=50K</td>\n",
       "    </tr>\n",
       "    <tr>\n",
       "      <th>3</th>\n",
       "      <td>54</td>\n",
       "      <td>Private</td>\n",
       "      <td>140359</td>\n",
       "      <td>7th-8th</td>\n",
       "      <td>4</td>\n",
       "      <td>Divorced</td>\n",
       "      <td>Machine-op-inspct</td>\n",
       "      <td>Unmarried</td>\n",
       "      <td>White</td>\n",
       "      <td>Female</td>\n",
       "      <td>0</td>\n",
       "      <td>3900</td>\n",
       "      <td>40</td>\n",
       "      <td>United-States</td>\n",
       "      <td>&lt;=50K</td>\n",
       "    </tr>\n",
       "    <tr>\n",
       "      <th>4</th>\n",
       "      <td>41</td>\n",
       "      <td>Private</td>\n",
       "      <td>264663</td>\n",
       "      <td>Some-college</td>\n",
       "      <td>10</td>\n",
       "      <td>Separated</td>\n",
       "      <td>Prof-specialty</td>\n",
       "      <td>Own-child</td>\n",
       "      <td>White</td>\n",
       "      <td>Female</td>\n",
       "      <td>0</td>\n",
       "      <td>3900</td>\n",
       "      <td>40</td>\n",
       "      <td>United-States</td>\n",
       "      <td>&lt;=50K</td>\n",
       "    </tr>\n",
       "  </tbody>\n",
       "</table>\n",
       "</div>"
      ],
      "text/plain": [
       "   age workclass  fnlwgt     education  education.num marital.status  \\\n",
       "0   90         ?   77053       HS-grad              9        Widowed   \n",
       "1   82   Private  132870       HS-grad              9        Widowed   \n",
       "2   66         ?  186061  Some-college             10        Widowed   \n",
       "3   54   Private  140359       7th-8th              4       Divorced   \n",
       "4   41   Private  264663  Some-college             10      Separated   \n",
       "\n",
       "          occupation   relationship   race     sex  capital.gain  \\\n",
       "0                  ?  Not-in-family  White  Female             0   \n",
       "1    Exec-managerial  Not-in-family  White  Female             0   \n",
       "2                  ?      Unmarried  Black  Female             0   \n",
       "3  Machine-op-inspct      Unmarried  White  Female             0   \n",
       "4     Prof-specialty      Own-child  White  Female             0   \n",
       "\n",
       "   capital.loss  hours.per.week native.country income  \n",
       "0          4356              40  United-States  <=50K  \n",
       "1          4356              18  United-States  <=50K  \n",
       "2          4356              40  United-States  <=50K  \n",
       "3          3900              40  United-States  <=50K  \n",
       "4          3900              40  United-States  <=50K  "
      ]
     },
     "execution_count": 2,
     "metadata": {},
     "output_type": "execute_result"
    }
   ],
   "source": [
    "# Preview dataset\n",
    "dataset.head()"
   ]
  },
  {
   "cell_type": "code",
   "execution_count": 3,
   "id": "81316f6b",
   "metadata": {},
   "outputs": [
    {
     "name": "stdout",
     "output_type": "stream",
     "text": [
      "Rows: 32561 Columns: 15\n"
     ]
    }
   ],
   "source": [
    "# Shape of dataset\n",
    "print('Rows: {} Columns: {}'.format(dataset.shape[0], dataset.shape[1]))"
   ]
  },
  {
   "cell_type": "code",
   "execution_count": 4,
   "id": "ec2df565",
   "metadata": {},
   "outputs": [
    {
     "name": "stdout",
     "output_type": "stream",
     "text": [
      "<class 'pandas.core.frame.DataFrame'>\n",
      "RangeIndex: 32561 entries, 0 to 32560\n",
      "Data columns (total 15 columns):\n",
      " #   Column          Non-Null Count  Dtype \n",
      "---  ------          --------------  ----- \n",
      " 0   age             32561 non-null  int64 \n",
      " 1   workclass       32561 non-null  object\n",
      " 2   fnlwgt          32561 non-null  int64 \n",
      " 3   education       32561 non-null  object\n",
      " 4   education.num   32561 non-null  int64 \n",
      " 5   marital.status  32561 non-null  object\n",
      " 6   occupation      32561 non-null  object\n",
      " 7   relationship    32561 non-null  object\n",
      " 8   race            32561 non-null  object\n",
      " 9   sex             32561 non-null  object\n",
      " 10  capital.gain    32561 non-null  int64 \n",
      " 11  capital.loss    32561 non-null  int64 \n",
      " 12  hours.per.week  32561 non-null  int64 \n",
      " 13  native.country  32561 non-null  object\n",
      " 14  income          32561 non-null  object\n",
      "dtypes: int64(6), object(9)\n",
      "memory usage: 3.7+ MB\n"
     ]
    }
   ],
   "source": [
    "# Features data-type \n",
    "dataset.info()"
   ]
  },
  {
   "cell_type": "code",
   "execution_count": 5,
   "id": "f4b24ee3",
   "metadata": {},
   "outputs": [
    {
     "data": {
      "text/html": [
       "<div>\n",
       "<style scoped>\n",
       "    .dataframe tbody tr th:only-of-type {\n",
       "        vertical-align: middle;\n",
       "    }\n",
       "\n",
       "    .dataframe tbody tr th {\n",
       "        vertical-align: top;\n",
       "    }\n",
       "\n",
       "    .dataframe thead th {\n",
       "        text-align: right;\n",
       "    }\n",
       "</style>\n",
       "<table border=\"1\" class=\"dataframe\">\n",
       "  <thead>\n",
       "    <tr style=\"text-align: right;\">\n",
       "      <th></th>\n",
       "      <th>count</th>\n",
       "      <th>mean</th>\n",
       "      <th>std</th>\n",
       "      <th>min</th>\n",
       "      <th>25%</th>\n",
       "      <th>50%</th>\n",
       "      <th>75%</th>\n",
       "      <th>max</th>\n",
       "    </tr>\n",
       "  </thead>\n",
       "  <tbody>\n",
       "    <tr>\n",
       "      <th>age</th>\n",
       "      <td>32561.0</td>\n",
       "      <td>38.581647</td>\n",
       "      <td>13.640433</td>\n",
       "      <td>17.0</td>\n",
       "      <td>28.0</td>\n",
       "      <td>37.0</td>\n",
       "      <td>48.0</td>\n",
       "      <td>90.0</td>\n",
       "    </tr>\n",
       "    <tr>\n",
       "      <th>fnlwgt</th>\n",
       "      <td>32561.0</td>\n",
       "      <td>189778.366512</td>\n",
       "      <td>105549.977697</td>\n",
       "      <td>12285.0</td>\n",
       "      <td>117827.0</td>\n",
       "      <td>178356.0</td>\n",
       "      <td>237051.0</td>\n",
       "      <td>1484705.0</td>\n",
       "    </tr>\n",
       "    <tr>\n",
       "      <th>education.num</th>\n",
       "      <td>32561.0</td>\n",
       "      <td>10.080679</td>\n",
       "      <td>2.572720</td>\n",
       "      <td>1.0</td>\n",
       "      <td>9.0</td>\n",
       "      <td>10.0</td>\n",
       "      <td>12.0</td>\n",
       "      <td>16.0</td>\n",
       "    </tr>\n",
       "    <tr>\n",
       "      <th>capital.gain</th>\n",
       "      <td>32561.0</td>\n",
       "      <td>1077.648844</td>\n",
       "      <td>7385.292085</td>\n",
       "      <td>0.0</td>\n",
       "      <td>0.0</td>\n",
       "      <td>0.0</td>\n",
       "      <td>0.0</td>\n",
       "      <td>99999.0</td>\n",
       "    </tr>\n",
       "    <tr>\n",
       "      <th>capital.loss</th>\n",
       "      <td>32561.0</td>\n",
       "      <td>87.303830</td>\n",
       "      <td>402.960219</td>\n",
       "      <td>0.0</td>\n",
       "      <td>0.0</td>\n",
       "      <td>0.0</td>\n",
       "      <td>0.0</td>\n",
       "      <td>4356.0</td>\n",
       "    </tr>\n",
       "    <tr>\n",
       "      <th>hours.per.week</th>\n",
       "      <td>32561.0</td>\n",
       "      <td>40.437456</td>\n",
       "      <td>12.347429</td>\n",
       "      <td>1.0</td>\n",
       "      <td>40.0</td>\n",
       "      <td>40.0</td>\n",
       "      <td>45.0</td>\n",
       "      <td>99.0</td>\n",
       "    </tr>\n",
       "  </tbody>\n",
       "</table>\n",
       "</div>"
      ],
      "text/plain": [
       "                  count           mean            std      min       25%  \\\n",
       "age             32561.0      38.581647      13.640433     17.0      28.0   \n",
       "fnlwgt          32561.0  189778.366512  105549.977697  12285.0  117827.0   \n",
       "education.num   32561.0      10.080679       2.572720      1.0       9.0   \n",
       "capital.gain    32561.0    1077.648844    7385.292085      0.0       0.0   \n",
       "capital.loss    32561.0      87.303830     402.960219      0.0       0.0   \n",
       "hours.per.week  32561.0      40.437456      12.347429      1.0      40.0   \n",
       "\n",
       "                     50%       75%        max  \n",
       "age                 37.0      48.0       90.0  \n",
       "fnlwgt          178356.0  237051.0  1484705.0  \n",
       "education.num       10.0      12.0       16.0  \n",
       "capital.gain         0.0       0.0    99999.0  \n",
       "capital.loss         0.0       0.0     4356.0  \n",
       "hours.per.week      40.0      45.0       99.0  "
      ]
     },
     "execution_count": 5,
     "metadata": {},
     "output_type": "execute_result"
    }
   ],
   "source": [
    "# Statistical summary\n",
    "dataset.describe().T"
   ]
  },
  {
   "cell_type": "code",
   "execution_count": 6,
   "id": "479be532",
   "metadata": {},
   "outputs": [
    {
     "data": {
      "text/plain": [
       "age               0.0 %\n",
       "workclass         0.0 %\n",
       "fnlwgt            0.0 %\n",
       "education         0.0 %\n",
       "education.num     0.0 %\n",
       "marital.status    0.0 %\n",
       "occupation        0.0 %\n",
       "relationship      0.0 %\n",
       "race              0.0 %\n",
       "sex               0.0 %\n",
       "capital.gain      0.0 %\n",
       "capital.loss      0.0 %\n",
       "hours.per.week    0.0 %\n",
       "native.country    0.0 %\n",
       "income            0.0 %\n",
       "dtype: object"
      ]
     },
     "execution_count": 6,
     "metadata": {},
     "output_type": "execute_result"
    }
   ],
   "source": [
    "# Check for null values\n",
    "round((dataset.isnull().sum() / dataset.shape[0]) * 100, 2).astype(str) + ' %'"
   ]
  },
  {
   "cell_type": "code",
   "execution_count": 7,
   "id": "ba841235",
   "metadata": {},
   "outputs": [
    {
     "data": {
      "text/plain": [
       "age                0.0 %\n",
       "workclass         5.64 %\n",
       "fnlwgt             0.0 %\n",
       "education          0.0 %\n",
       "education.num      0.0 %\n",
       "marital.status     0.0 %\n",
       "occupation        5.66 %\n",
       "relationship       0.0 %\n",
       "race               0.0 %\n",
       "sex                0.0 %\n",
       "capital.gain       0.0 %\n",
       "capital.loss       0.0 %\n",
       "hours.per.week     0.0 %\n",
       "native.country    1.79 %\n",
       "income             0.0 %\n",
       "dtype: object"
      ]
     },
     "execution_count": 7,
     "metadata": {},
     "output_type": "execute_result"
    }
   ],
   "source": [
    "# Check for '?' in dataset\n",
    "round((dataset.isin(['?']).sum() / dataset.shape[0]) * 100, 2).astype(str) + ' %'"
   ]
  },
  {
   "cell_type": "code",
   "execution_count": 8,
   "id": "f6d96fbf",
   "metadata": {},
   "outputs": [
    {
     "data": {
      "text/plain": [
       "<=50K    75.92 %\n",
       ">50K     24.08 %\n",
       "Name: income, dtype: object"
      ]
     },
     "execution_count": 8,
     "metadata": {},
     "output_type": "execute_result"
    }
   ],
   "source": [
    "# Checking the counts of label categories\n",
    "income = dataset['income'].value_counts(normalize=True)\n",
    "round(income * 100, 2).astype('str') + ' %'"
   ]
  },
  {
   "cell_type": "code",
   "execution_count": 9,
   "id": "2976a386",
   "metadata": {},
   "outputs": [],
   "source": [
    "#1. The dataset doesn’t have any null values, but it contains missing values in the form of ‘?’ \n",
    "#   which needs to be preprocessed.\n",
    "#2. The dataset is unbalanced, as the dependent feature ‘income’ contains 75.92% values have income\n",
    "#   less than 50k, and 24.08% values have income more than 50k."
   ]
  },
  {
   "cell_type": "code",
   "execution_count": 10,
   "id": "a024750a",
   "metadata": {},
   "outputs": [
    {
     "data": {
      "text/plain": [
       "age               0.0 %\n",
       "workclass         0.0 %\n",
       "fnlwgt            0.0 %\n",
       "education         0.0 %\n",
       "education.num     0.0 %\n",
       "marital.status    0.0 %\n",
       "occupation        0.0 %\n",
       "relationship      0.0 %\n",
       "race              0.0 %\n",
       "sex               0.0 %\n",
       "capital.gain      0.0 %\n",
       "capital.loss      0.0 %\n",
       "hours.per.week    0.0 %\n",
       "native.country    0.0 %\n",
       "income            0.0 %\n",
       "dtype: object"
      ]
     },
     "execution_count": 10,
     "metadata": {},
     "output_type": "execute_result"
    }
   ],
   "source": [
    "# Checking null values\n",
    "round((dataset.isnull().sum() / dataset.shape[0]) * 100, 2).astype(str) + ' %'"
   ]
  },
  {
   "cell_type": "code",
   "execution_count": 11,
   "id": "c26f84ea",
   "metadata": {},
   "outputs": [],
   "source": [
    "columns_with_nan = ['workclass', 'occupation', 'native.country']\n",
    "for col in columns_with_nan:\n",
    "    dataset[col].fillna(dataset[col].mode()[0], inplace = True)"
   ]
  },
  {
   "cell_type": "code",
   "execution_count": 12,
   "id": "5b6fb9f3",
   "metadata": {},
   "outputs": [],
   "source": [
    "from sklearn.preprocessing import LabelEncoder\n",
    "for col in dataset.columns:\n",
    "  if dataset[col].dtypes == 'object':         \n",
    "    encoder = LabelEncoder()         \n",
    "    dataset[col] = encoder.fit_transform(dataset[col])"
   ]
  },
  {
   "cell_type": "code",
   "execution_count": 13,
   "id": "416f5a1e",
   "metadata": {},
   "outputs": [],
   "source": [
    "X = dataset.drop('income', axis = 1) \n",
    "Y = dataset['income']"
   ]
  },
  {
   "cell_type": "code",
   "execution_count": 14,
   "id": "1b5d10d1",
   "metadata": {},
   "outputs": [
    {
     "name": "stdout",
     "output_type": "stream",
     "text": [
      "0 15.38\n",
      "1 4.48\n",
      "2 16.51\n",
      "3 3.56\n",
      "4 9.04\n",
      "5 7.38\n",
      "6 7.53\n",
      "7 9.25\n",
      "8 1.47\n",
      "9 2.76\n",
      "10 8.76\n",
      "11 2.77\n",
      "12 9.36\n",
      "13 1.75\n"
     ]
    }
   ],
   "source": [
    "from sklearn.ensemble import ExtraTreesClassifier\n",
    "selector = ExtraTreesClassifier(random_state = 42)\n",
    "selector.fit(X, Y)\n",
    "feature_imp = selector.feature_importances_\n",
    "for index, val in enumerate(feature_imp):\n",
    "    print(index, round((val * 100), 2))"
   ]
  },
  {
   "cell_type": "code",
   "execution_count": 15,
   "id": "a2ed023a",
   "metadata": {},
   "outputs": [],
   "source": [
    "X = X.drop(['workclass', 'education', 'race', 'sex', 'capital.loss', 'native.country'], axis = 1)"
   ]
  },
  {
   "cell_type": "code",
   "execution_count": 16,
   "id": "f5553a62",
   "metadata": {},
   "outputs": [],
   "source": [
    "from sklearn.preprocessing import StandardScaler\n",
    "for col in X.columns:     \n",
    "  scaler = StandardScaler()     \n",
    "  X[col] = scaler.fit_transform(X[col].values.reshape(-1, 1))"
   ]
  },
  {
   "cell_type": "code",
   "execution_count": 17,
   "id": "3a72a730",
   "metadata": {},
   "outputs": [
    {
     "data": {
      "text/plain": [
       "0    75.92 %\n",
       "1    24.08 %\n",
       "Name: income, dtype: object"
      ]
     },
     "execution_count": 17,
     "metadata": {},
     "output_type": "execute_result"
    }
   ],
   "source": [
    "round(Y.value_counts(normalize=True) * 100, 2).astype('str') + ' %'"
   ]
  },
  {
   "cell_type": "code",
   "execution_count": 18,
   "id": "1ae36361",
   "metadata": {},
   "outputs": [
    {
     "data": {
      "text/plain": [
       "0    50.0 %\n",
       "1    50.0 %\n",
       "Name: income, dtype: object"
      ]
     },
     "execution_count": 18,
     "metadata": {},
     "output_type": "execute_result"
    }
   ],
   "source": [
    "from imblearn.over_sampling import RandomOverSampler \n",
    "ros = RandomOverSampler(random_state = 42)\n",
    "ros.fit(X, Y)\n",
    "X_resampled, Y_resampled = ros.fit_resample(X, Y)\n",
    "round(Y_resampled.value_counts(normalize=True) * 100, 2).astype('str') + ' %'"
   ]
  },
  {
   "cell_type": "code",
   "execution_count": 19,
   "id": "ec99b190",
   "metadata": {},
   "outputs": [
    {
     "name": "stdout",
     "output_type": "stream",
     "text": [
      "X_train shape: (39552, 8)\n",
      "X_test shape: (9888, 8)\n",
      "Y_train shape: (39552,)\n",
      "Y_test shape: (9888,)\n"
     ]
    }
   ],
   "source": [
    "from sklearn.model_selection import train_test_split\n",
    "X_train, X_test, Y_train, Y_test = train_test_split(X_resampled, Y_resampled, test_size = 0.2, random_state = 42)\n",
    "print(\"X_train shape:\", X_train.shape) \n",
    "print(\"X_test shape:\", X_test.shape) \n",
    "print(\"Y_train shape:\", Y_train.shape) \n",
    "print(\"Y_test shape:\", Y_test.shape)"
   ]
  },
  {
   "cell_type": "code",
   "execution_count": 20,
   "id": "ff21b43a",
   "metadata": {},
   "outputs": [],
   "source": [
    "from sklearn.ensemble import RandomForestClassifier\n",
    "ran_for = RandomForestClassifier(random_state = 42)\n",
    "ran_for.fit(X_train, Y_train)\n",
    "Y_pred_ran_for = ran_for.predict(X_test)"
   ]
  },
  {
   "cell_type": "code",
   "execution_count": 21,
   "id": "e3c61120",
   "metadata": {},
   "outputs": [
    {
     "name": "stdout",
     "output_type": "stream",
     "text": [
      "Random Forest Classifier:\n",
      "Accuracy score: 92.4\n",
      "F1 score: 92.77\n"
     ]
    }
   ],
   "source": [
    "from sklearn.metrics import accuracy_score\n",
    "from sklearn.metrics import f1_score\n",
    "print('Random Forest Classifier:')\n",
    "print('Accuracy score:',round(accuracy_score(Y_test, Y_pred_ran_for) * 100, 2))\n",
    "print('F1 score:',round(f1_score(Y_test, Y_pred_ran_for) * 100, 2))"
   ]
  },
  {
   "cell_type": "code",
   "execution_count": 22,
   "id": "cb7466e8",
   "metadata": {},
   "outputs": [
    {
     "data": {
      "text/plain": [
       "0.9133799294649819"
      ]
     },
     "execution_count": 22,
     "metadata": {},
     "output_type": "execute_result"
    }
   ],
   "source": [
    "from sklearn.model_selection import RandomizedSearchCV\n",
    "n_estimators = [int(x) for x in np.linspace(start = 40, stop = 150, num = 15)]\n",
    "max_depth = [int(x) for x in np.linspace(40, 150, num = 15)]\n",
    "param_dist = {\n",
    "    'n_estimators' : n_estimators,\n",
    "    'max_depth' : max_depth,\n",
    "}\n",
    "rf_tuned = RandomForestClassifier(random_state = 42)\n",
    "rf_cv = RandomizedSearchCV(estimator = rf_tuned, param_distributions = param_dist, cv = 5, random_state = 42)\n",
    "rf_cv.fit(X_train, Y_train)\n",
    "rf_cv.best_score_"
   ]
  },
  {
   "cell_type": "code",
   "execution_count": 23,
   "id": "4eebed53",
   "metadata": {},
   "outputs": [
    {
     "data": {
      "text/plain": [
       "{'n_estimators': 126, 'max_depth': 79}"
      ]
     },
     "execution_count": 23,
     "metadata": {},
     "output_type": "execute_result"
    }
   ],
   "source": [
    "rf_cv.best_params_"
   ]
  },
  {
   "cell_type": "code",
   "execution_count": 24,
   "id": "5d583ea2",
   "metadata": {},
   "outputs": [
    {
     "name": "stdout",
     "output_type": "stream",
     "text": [
      "Random Forest Classifier:\n",
      "Accuracy score: 92.53\n",
      "F1 score: 92.87\n"
     ]
    }
   ],
   "source": [
    "rf_best = RandomForestClassifier(max_depth = 102, n_estimators = 40, random_state = 42)\n",
    "rf_best.fit(X_train, Y_train)\n",
    "Y_pred_rf_best = rf_best.predict(X_test)\n",
    "print('Random Forest Classifier:') \n",
    "print('Accuracy score:',round(accuracy_score(Y_test, Y_pred_rf_best) * 100, 2)) \n",
    "print('F1 score:',round(f1_score(Y_test, Y_pred_rf_best) * 100, 2))"
   ]
  },
  {
   "cell_type": "code",
   "execution_count": 25,
   "id": "50cce3c1",
   "metadata": {},
   "outputs": [
    {
     "data": {
      "text/plain": [
       "array([[4333,  622],\n",
       "       [ 117, 4816]], dtype=int64)"
      ]
     },
     "execution_count": 25,
     "metadata": {},
     "output_type": "execute_result"
    }
   ],
   "source": [
    "from sklearn.metrics import confusion_matrix \n",
    "cm = confusion_matrix(Y_test, Y_pred_rf_best)\n",
    "cm"
   ]
  },
  {
   "cell_type": "code",
   "execution_count": 26,
   "id": "df8fd6c1",
   "metadata": {},
   "outputs": [
    {
     "data": {
      "text/plain": [
       "<AxesSubplot:>"
      ]
     },
     "execution_count": 26,
     "metadata": {},
     "output_type": "execute_result"
    },
    {
     "data": {
      "image/png": "[encoded data removed]",
      "text/plain": [
       "<Figure size 432x288 with 2 Axes>"
      ]
     },
     "metadata": {
      "needs_background": "light"
     },
     "output_type": "display_data"
    }
   ],
   "source": [
    "import seaborn as sns\n",
    "sns.heatmap(cm, annot=True, fmt='g')"
   ]
  },
  {
   "cell_type": "code",
   "execution_count": 27,
   "id": "8f9956cf",
   "metadata": {},
   "outputs": [
    {
     "data": {
      "text/html": [
       "<div>\n",
       "<style scoped>\n",
       "    .dataframe tbody tr th:only-of-type {\n",
       "        vertical-align: middle;\n",
       "    }\n",
       "\n",
       "    .dataframe tbody tr th {\n",
       "        vertical-align: top;\n",
       "    }\n",
       "\n",
       "    .dataframe thead th {\n",
       "        text-align: right;\n",
       "    }\n",
       "</style>\n",
       "<table border=\"1\" class=\"dataframe\">\n",
       "  <thead>\n",
       "    <tr style=\"text-align: right;\">\n",
       "      <th></th>\n",
       "      <th>age</th>\n",
       "      <th>fnlwgt</th>\n",
       "      <th>education.num</th>\n",
       "      <th>marital.status</th>\n",
       "      <th>occupation</th>\n",
       "      <th>relationship</th>\n",
       "      <th>capital.gain</th>\n",
       "      <th>hours.per.week</th>\n",
       "    </tr>\n",
       "  </thead>\n",
       "  <tbody>\n",
       "    <tr>\n",
       "      <th>32168</th>\n",
       "      <td>1.130359</td>\n",
       "      <td>-0.629137</td>\n",
       "      <td>-2.363558</td>\n",
       "      <td>-0.406212</td>\n",
       "      <td>-0.844861</td>\n",
       "      <td>-0.900181</td>\n",
       "      <td>-0.14592</td>\n",
       "      <td>-0.035429</td>\n",
       "    </tr>\n",
       "    <tr>\n",
       "      <th>199</th>\n",
       "      <td>3.769612</td>\n",
       "      <td>-1.307783</td>\n",
       "      <td>-0.420060</td>\n",
       "      <td>0.921634</td>\n",
       "      <td>0.337510</td>\n",
       "      <td>-0.277805</td>\n",
       "      <td>-0.14592</td>\n",
       "      <td>-0.035429</td>\n",
       "    </tr>\n",
       "    <tr>\n",
       "      <th>16026</th>\n",
       "      <td>-1.435581</td>\n",
       "      <td>0.963830</td>\n",
       "      <td>-0.808759</td>\n",
       "      <td>0.921634</td>\n",
       "      <td>-1.554283</td>\n",
       "      <td>0.966947</td>\n",
       "      <td>-0.14592</td>\n",
       "      <td>-1.007307</td>\n",
       "    </tr>\n",
       "    <tr>\n",
       "      <th>10791</th>\n",
       "      <td>1.130359</td>\n",
       "      <td>-0.189424</td>\n",
       "      <td>-0.031360</td>\n",
       "      <td>-1.734058</td>\n",
       "      <td>-0.608387</td>\n",
       "      <td>-0.277805</td>\n",
       "      <td>-0.14592</td>\n",
       "      <td>-0.035429</td>\n",
       "    </tr>\n",
       "    <tr>\n",
       "      <th>33656</th>\n",
       "      <td>-0.335892</td>\n",
       "      <td>0.297386</td>\n",
       "      <td>0.746039</td>\n",
       "      <td>-0.406212</td>\n",
       "      <td>-1.317809</td>\n",
       "      <td>2.211698</td>\n",
       "      <td>-0.14592</td>\n",
       "      <td>-0.035429</td>\n",
       "    </tr>\n",
       "    <tr>\n",
       "      <th>...</th>\n",
       "      <td>...</td>\n",
       "      <td>...</td>\n",
       "      <td>...</td>\n",
       "      <td>...</td>\n",
       "      <td>...</td>\n",
       "      <td>...</td>\n",
       "      <td>...</td>\n",
       "      <td>...</td>\n",
       "    </tr>\n",
       "    <tr>\n",
       "      <th>30612</th>\n",
       "      <td>-1.215643</td>\n",
       "      <td>1.175714</td>\n",
       "      <td>-1.197459</td>\n",
       "      <td>0.921634</td>\n",
       "      <td>-0.844861</td>\n",
       "      <td>0.966947</td>\n",
       "      <td>-0.14592</td>\n",
       "      <td>-0.845327</td>\n",
       "    </tr>\n",
       "    <tr>\n",
       "      <th>33730</th>\n",
       "      <td>0.690484</td>\n",
       "      <td>0.014199</td>\n",
       "      <td>0.357340</td>\n",
       "      <td>-0.406212</td>\n",
       "      <td>-0.608387</td>\n",
       "      <td>-0.900181</td>\n",
       "      <td>-0.14592</td>\n",
       "      <td>0.774468</td>\n",
       "    </tr>\n",
       "    <tr>\n",
       "      <th>4546</th>\n",
       "      <td>-1.215643</td>\n",
       "      <td>1.637265</td>\n",
       "      <td>0.746039</td>\n",
       "      <td>0.921634</td>\n",
       "      <td>1.283407</td>\n",
       "      <td>-0.277805</td>\n",
       "      <td>-0.14592</td>\n",
       "      <td>-2.060174</td>\n",
       "    </tr>\n",
       "    <tr>\n",
       "      <th>26559</th>\n",
       "      <td>1.057047</td>\n",
       "      <td>0.559513</td>\n",
       "      <td>1.134739</td>\n",
       "      <td>-0.406212</td>\n",
       "      <td>0.810458</td>\n",
       "      <td>2.211698</td>\n",
       "      <td>-0.14592</td>\n",
       "      <td>0.774468</td>\n",
       "    </tr>\n",
       "    <tr>\n",
       "      <th>32895</th>\n",
       "      <td>-0.115955</td>\n",
       "      <td>0.000944</td>\n",
       "      <td>1.912138</td>\n",
       "      <td>-0.406212</td>\n",
       "      <td>0.810458</td>\n",
       "      <td>-0.900181</td>\n",
       "      <td>-0.14592</td>\n",
       "      <td>0.774468</td>\n",
       "    </tr>\n",
       "  </tbody>\n",
       "</table>\n",
       "<p>9888 rows × 8 columns</p>\n",
       "</div>"
      ],
      "text/plain": [
       "            age    fnlwgt  education.num  marital.status  occupation  \\\n",
       "32168  1.130359 -0.629137      -2.363558       -0.406212   -0.844861   \n",
       "199    3.769612 -1.307783      -0.420060        0.921634    0.337510   \n",
       "16026 -1.435581  0.963830      -0.808759        0.921634   -1.554283   \n",
       "10791  1.130359 -0.189424      -0.031360       -1.734058   -0.608387   \n",
       "33656 -0.335892  0.297386       0.746039       -0.406212   -1.317809   \n",
       "...         ...       ...            ...             ...         ...   \n",
       "30612 -1.215643  1.175714      -1.197459        0.921634   -0.844861   \n",
       "33730  0.690484  0.014199       0.357340       -0.406212   -0.608387   \n",
       "4546  -1.215643  1.637265       0.746039        0.921634    1.283407   \n",
       "26559  1.057047  0.559513       1.134739       -0.406212    0.810458   \n",
       "32895 -0.115955  0.000944       1.912138       -0.406212    0.810458   \n",
       "\n",
       "       relationship  capital.gain  hours.per.week  \n",
       "32168     -0.900181      -0.14592       -0.035429  \n",
       "199       -0.277805      -0.14592       -0.035429  \n",
       "16026      0.966947      -0.14592       -1.007307  \n",
       "10791     -0.277805      -0.14592       -0.035429  \n",
       "33656      2.211698      -0.14592       -0.035429  \n",
       "...             ...           ...             ...  \n",
       "30612      0.966947      -0.14592       -0.845327  \n",
       "33730     -0.900181      -0.14592        0.774468  \n",
       "4546      -0.277805      -0.14592       -2.060174  \n",
       "26559      2.211698      -0.14592        0.774468  \n",
       "32895     -0.900181      -0.14592        0.774468  \n",
       "\n",
       "[9888 rows x 8 columns]"
      ]
     },
     "execution_count": 27,
     "metadata": {},
     "output_type": "execute_result"
    }
   ],
   "source": [
    "X_test"
   ]
  },
  {
   "cell_type": "code",
   "execution_count": null,
   "id": "24f5d092",
   "metadata": {},
   "outputs": [],
   "source": []
  }
 ],
 "metadata": {
  "kernelspec": {
   "display_name": "Python 3 (ipykernel)",
   "language": "python",
   "name": "python3"
  },
  "language_info": {
   "codemirror_mode": {
    "name": "ipython",
    "version": 3
   },
   "file_extension": ".py",
   "mimetype": "text/x-python",
   "name": "python",
   "nbconvert_exporter": "python",
   "pygments_lexer": "ipython3",
   "version": "3.9.7"
  }
 },
 "nbformat": 4,
 "nbformat_minor": 5
}
