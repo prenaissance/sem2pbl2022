{
 "cells": [
  {
   "cell_type": "code",
   "execution_count": 4,
   "id": "9d4f2183",
   "metadata": {},
   "outputs": [
    {
     "data": {
      "text/plain": [
       "array([1])"
      ]
     },
     "execution_count": 4,
     "metadata": {},
     "output_type": "execute_result"
    }
   ],
   "source": [
    "# Import libraries\n",
    "import pandas as pd\n",
    "import numpy as np\n",
    "import matplotlib.pyplot as plt\n",
    "import seaborn as sns\n",
    "# Importing dataset\n",
    "dataset = pd.read_csv('adult.csv')\n",
    "\n",
    "columns_with_nan = ['workclass', 'occupation', 'native.country']\n",
    "for col in columns_with_nan:\n",
    "    dataset[col].fillna(dataset[col].mode()[0], inplace = True)\n",
    "\n",
    "# encoding the data for training proccess\n",
    "from sklearn.preprocessing import LabelEncoder\n",
    "for col in dataset.columns:\n",
    "  if dataset[col].dtypes == 'object':  \n",
    "    encoder = LabelEncoder()\n",
    "    dataset[col] = encoder.fit_transform(dataset[col])\n",
    "    \n",
    "# Separating what we will get an input from what we want to predict    \n",
    "X = dataset.drop('income', axis = 1) \n",
    "Y = dataset['income']\n",
    "\n",
    "#Droping the columns we don't get an input for\n",
    "X = X.drop(['workclass', 'education', 'race', 'sex', 'capital.loss', 'native.country', 'fnlwgt', 'capital.gain', 'relationship'], axis = 1)\n",
    "\n",
    "#Ressampling the dataset cause it's not balanced\n",
    "from imblearn.over_sampling import RandomOverSampler \n",
    "ros = RandomOverSampler(random_state = 42)\n",
    "ros.fit(X, Y)\n",
    "X_resampled, Y_resampled = ros.fit_resample(X, Y)\n",
    "\n",
    "#training the model\n",
    "from sklearn.model_selection import train_test_split\n",
    "X_train, X_test, Y_train, Y_test = train_test_split(X_resampled, Y_resampled, test_size = 0.2, random_state = 42)\n",
    "from sklearn.ensemble import RandomForestClassifier\n",
    "ran_for = RandomForestClassifier(max_depth = 102, n_estimators = 40, random_state = 42)\n",
    "ran_for.fit(X_train, Y_train)\n",
    "\n",
    "\n",
    "#those are the labels our model used so it's very important to get them right\n",
    "labels = {'marital.status':{'Divorced':0, 'Married-AF-spouse':1, 'Married-civ-spouse':2,\n",
    " 'Married-spouse-absent':3, 'Never-married':4, 'Separated':5, 'Widowed':6}, \n",
    "          'occupation': {'?': 0, 'Adm-clerical':1, 'Armed-Forces':2, 'Craft-repair':3, 'Exec-managerial':4,\n",
    " 'Farming-fishing':5, 'Handlers-cleaners':6, 'Machine-op-inspct':7, 'Other-service':8,\n",
    " 'Priv-house-serv':9, 'Prof-specialty':10, 'Protective-serv':11, 'Sales':12,\n",
    " 'Tech-support':13, 'Transport-moving':14}}\n",
    "\n",
    "#the data we get input for in form of a dict\n",
    "data = {'age': 52, 'education.num': 13, 'marital.status': 'Widowed', 'occupation': 'Other-service', 'hours.per.week': 50}\n",
    "\n",
    "#changing the strings for marital.status and occupation to corresponding labels\n",
    "data['marital.status'] = labels['marital.status'][data['marital.status']]\n",
    "data['occupation'] = labels['occupation'][data['occupation']]\n",
    "\n",
    "#transforming the dict into an array\n",
    "df = pd.DataFrame(data, index=[0])\n",
    "\n",
    "#predicing the result\n",
    "# if it says 0 => the income is less or equal to 50k\n",
    "# if it says 1 => the income is more thank 50k\n",
    "ran_for.predict(df)"
   ]
  },
  {
   "cell_type": "code",
   "execution_count": null,
   "id": "12f7cc9e",
   "metadata": {},
   "outputs": [],
   "source": []
  }
 ],
 "metadata": {
  "kernelspec": {
   "display_name": "Python 3 (ipykernel)",
   "language": "python",
   "name": "python3"
  },
  "language_info": {
   "codemirror_mode": {
    "name": "ipython",
    "version": 3
   },
   "file_extension": ".py",
   "mimetype": "text/x-python",
   "name": "python",
   "nbconvert_exporter": "python",
   "pygments_lexer": "ipython3",
   "version": "3.9.7"
  }
 },
 "nbformat": 4,
 "nbformat_minor": 5
}
